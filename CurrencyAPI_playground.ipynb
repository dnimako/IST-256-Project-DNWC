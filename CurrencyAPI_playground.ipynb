{
 "cells": [
  {
   "cell_type": "code",
   "execution_count": 2,
   "metadata": {},
   "outputs": [],
   "source": [
    "#Go to bottom for 3 final functions!!!\n",
    "!pip install -q requests\n",
    "import requests\n",
    "import json\n",
    "import csv"
   ]
  },
  {
   "cell_type": "code",
   "execution_count": 32,
   "metadata": {
    "scrolled": true
   },
   "outputs": [
    {
     "data": {
      "text/plain": [
       "{'USDAED': 3.67305,\n",
       " 'USDAFN': 78.750206,\n",
       " 'USDALL': 110.096899,\n",
       " 'USDAMD': 477.70983,\n",
       " 'USDANG': 1.709902,\n",
       " 'USDAOA': 469.313497,\n",
       " 'USDARS': 59.8222,\n",
       " 'USDAUD': 1.449023,\n",
       " 'USDAWG': 1.8,\n",
       " 'USDAZN': 1.702436,\n",
       " 'USDBAM': 1.756818,\n",
       " 'USDBBD': 2.018989,\n",
       " 'USDBDT': 84.891219,\n",
       " 'USDBGN': 1.75923,\n",
       " 'USDBHD': 0.377029,\n",
       " 'USDBIF': 1876,\n",
       " 'USDBMD': 1,\n",
       " 'USDBND': 1.356712,\n",
       " 'USDBOB': 6.914702,\n",
       " 'USDBRL': 4.102695,\n",
       " 'USDBSD': 0.999928,\n",
       " 'USDBTC': 0.000139,\n",
       " 'USDBTN': 70.87085,\n",
       " 'USDBWP': 10.822254,\n",
       " 'USDBYN': 2.108364,\n",
       " 'USDBYR': 19600,\n",
       " 'USDBZD': 2.015576,\n",
       " 'USDCAD': 1.31875,\n",
       " 'USDCDF': 1680.999894,\n",
       " 'USDCHF': 0.986655,\n",
       " 'USDCLF': 0.027826,\n",
       " 'USDCLP': 768.000182,\n",
       " 'USDCNY': 7.020602,\n",
       " 'USDCOP': 3373.2,\n",
       " 'USDCRC': 568.74281,\n",
       " 'USDCUC': 1,\n",
       " 'USDCUP': 26.5,\n",
       " 'USDCVE': 99.549869,\n",
       " 'USDCZK': 22.950019,\n",
       " 'USDDJF': 177.720282,\n",
       " 'USDDKK': 6.72039,\n",
       " 'USDDOP': 53.14008,\n",
       " 'USDDZD': 119.51886,\n",
       " 'USDEGP': 16.118049,\n",
       " 'USDERN': 14.999853,\n",
       " 'USDETB': 31.620176,\n",
       " 'USDEUR': 0.899199,\n",
       " 'USDFJD': 2.174016,\n",
       " 'USDFKP': 0.81288,\n",
       " 'USDGBP': 0.761905,\n",
       " 'USDGEL': 2.87996,\n",
       " 'USDGGP': 0.761879,\n",
       " 'USDGHS': 5.750131,\n",
       " 'USDGIP': 0.81288,\n",
       " 'USDGMD': 51.250149,\n",
       " 'USDGNF': 9454.99981,\n",
       " 'USDGTQ': 7.664648,\n",
       " 'USDGYD': 208.68963,\n",
       " 'USDHKD': 7.80495,\n",
       " 'USDHNL': 24.749683,\n",
       " 'USDHRK': 6.689696,\n",
       " 'USDHTG': 97.11932,\n",
       " 'USDHUF': 296.249805,\n",
       " 'USDIDR': 13996.5,\n",
       " 'USDILS': 3.480599,\n",
       " 'USDIMP': 0.761879,\n",
       " 'USDINR': 70.629396,\n",
       " 'USDIQD': 1190,\n",
       " 'USDIRR': 42105.000099,\n",
       " 'USDISK': 122.793572,\n",
       " 'USDJEP': 0.761879,\n",
       " 'USDJMD': 140.55936,\n",
       " 'USDJOD': 0.70901,\n",
       " 'USDJPY': 109.296501,\n",
       " 'USDKES': 101.697823,\n",
       " 'USDKGS': 69.849901,\n",
       " 'USDKHR': 4064.999924,\n",
       " 'USDKMF': 442.270066,\n",
       " 'USDKPW': 900.006293,\n",
       " 'USDKRW': 1175.870117,\n",
       " 'USDKWD': 0.303601,\n",
       " 'USDKYD': 0.833393,\n",
       " 'USDKZT': 384.61124,\n",
       " 'USDLAK': 8884.999655,\n",
       " 'USDLBP': 1512.510487,\n",
       " 'USDLKR': 180.89187,\n",
       " 'USDLRD': 188.00014,\n",
       " 'USDLSL': 14.769958,\n",
       " 'USDLTL': 2.95274,\n",
       " 'USDLVL': 0.60489,\n",
       " 'USDLYD': 1.403144,\n",
       " 'USDMAD': 9.601499,\n",
       " 'USDMDL': 17.319183,\n",
       " 'USDMGA': 3610.000336,\n",
       " 'USDMKD': 55.280913,\n",
       " 'USDMMK': 1513.932018,\n",
       " 'USDMNT': 2734.325155,\n",
       " 'USDMOP': 8.040205,\n",
       " 'USDMRO': 356.999516,\n",
       " 'USDMUR': 36.545239,\n",
       " 'USDMVR': 15.459873,\n",
       " 'USDMWK': 724.999951,\n",
       " 'USDMXN': 19.07828,\n",
       " 'USDMYR': 4.164601,\n",
       " 'USDMZN': 63.702808,\n",
       " 'USDNAD': 14.655016,\n",
       " 'USDNGN': 362.498346,\n",
       " 'USDNIO': 33.869908,\n",
       " 'USDNOK': 9.09807,\n",
       " 'USDNPR': 113.39375,\n",
       " 'USDNZD': 1.517125,\n",
       " 'USDOMR': 0.384976,\n",
       " 'USDPAB': 1.000018,\n",
       " 'USDPEN': 3.39701,\n",
       " 'USDPGK': 3.40425,\n",
       " 'USDPHP': 50.570503,\n",
       " 'USDPKR': 155.050467,\n",
       " 'USDPLN': 3.85313,\n",
       " 'USDPYG': 6441.416302,\n",
       " 'USDQAR': 3.641006,\n",
       " 'USDRON': 4.300502,\n",
       " 'USDRSD': 105.684982,\n",
       " 'USDRUB': 62.751798,\n",
       " 'USDRWF': 926,\n",
       " 'USDSAR': 3.750073,\n",
       " 'USDSBD': 8.338545,\n",
       " 'USDSCR': 13.699788,\n",
       " 'USDSDG': 45.110484,\n",
       " 'USDSEK': 9.40786,\n",
       " 'USDSGD': 1.35573,\n",
       " 'USDSHP': 1.320902,\n",
       " 'USDSLL': 9724.9997,\n",
       " 'USDSOS': 580.00004,\n",
       " 'USDSRD': 7.458044,\n",
       " 'USDSTD': 21560.79,\n",
       " 'USDSVC': 8.74982,\n",
       " 'USDSYP': 514.999935,\n",
       " 'USDSZL': 14.649658,\n",
       " 'USDTHB': 30.183988,\n",
       " 'USDTJS': 9.694596,\n",
       " 'USDTMT': 3.51,\n",
       " 'USDTND': 2.848958,\n",
       " 'USDTOP': 2.301002,\n",
       " 'USDTRY': 5.770715,\n",
       " 'USDTTD': 6.761371,\n",
       " 'USDTWD': 30.206012,\n",
       " 'USDTZS': 2297.90406,\n",
       " 'USDUAH': 23.564961,\n",
       " 'USDUGX': 3674.816801,\n",
       " 'USDUSD': 1,\n",
       " 'USDUYU': 37.983257,\n",
       " 'USDUZS': 9529.999553,\n",
       " 'USDVEF': 9.987497,\n",
       " 'USDVND': 23172.5,\n",
       " 'USDVUV': 116.417219,\n",
       " 'USDWST': 2.651049,\n",
       " 'USDXAF': 589.21116,\n",
       " 'USDXAG': 0.059444,\n",
       " 'USDXAU': 0.000682,\n",
       " 'USDXCD': 2.70255,\n",
       " 'USDXDR': 0.724728,\n",
       " 'USDXOF': 592.000171,\n",
       " 'USDXPF': 107.503814,\n",
       " 'USDYER': 250.304164,\n",
       " 'USDZAR': 14.524101,\n",
       " 'USDZMK': 9001.199699,\n",
       " 'USDZMW': 14.444344,\n",
       " 'USDZWL': 322.000001}"
      ]
     },
     "execution_count": 32,
     "metadata": {},
     "output_type": "execute_result"
    }
   ],
   "source": [
    "## Playing with CurrencyLayer API\n",
    "myKey = \"505e522c5920684cb68f5006abc56fa7\"\n",
    "baseUrl = \"http://apilayer.net/api/\"\n",
    "url = \"http://www.apilayer.net/api/live?access_key=505e522c5920684cb68f5006abc56fa7&format=1\"\n",
    "response = requests.get(url)\n",
    "jason = response.json()\n",
    "rate_dict = jason[\"quotes\"]\n",
    "rate_dict"
   ]
  },
  {
   "cell_type": "code",
   "execution_count": 33,
   "metadata": {},
   "outputs": [
    {
     "name": "stdout",
     "output_type": "stream",
     "text": [
      "Enter the code for the currency you want to exchange for: ZWL\n",
      "USDZWL\n",
      "322.000001\n"
     ]
    }
   ],
   "source": [
    "currency = input(\"Enter the code for the currency you want to exchange for: \")\n",
    "combo_code = \"USD\" + currency\n",
    "print(combo_code)\n",
    "\n",
    "print (rate_dict[combo_code])\n",
    "\n",
    "# as long as the user inputs a valid code (USD, BAM, etc.) I can return the the value of that key off of the dictionary.\n",
    "# Next challenge will be getting a dictionary of countries and their currency codes\n",
    "# I'll use the data from our map API to take the location input from the user and match it to the currency code of that country\n",
    "# Now I'll try to refractor the code from above to take a code, and return the rate.\n",
    "\n",
    "def dollar4dollar(currency_code):\n",
    "    url = \"http://www.apilayer.net/api/live?access_key=505e522c5920684cb68f5006abc56fa7&format=1\"\n",
    "    response = requests.get(url)\n",
    "    jason = response.json()\n",
    "    rate_dict = jason[\"quotes\"]\n",
    "    return(rate_dict[currency_code])\n",
    "#Currently working to format a list of countries and their currency codes\n",
    "#users can then input a city, we'll infer the country, and plug that into the table for the currency code"
   ]
  },
  {
   "cell_type": "code",
   "execution_count": 47,
   "metadata": {
    "scrolled": false
   },
   "outputs": [
    {
     "name": "stdout",
     "output_type": "stream",
     "text": [
      "Enter a country: belgium\n",
      "EUR\n"
     ]
    }
   ],
   "source": [
    "#Trying to get a currency code from an inputted country\n",
    "#In the program we'll get the country from another API, here we'll input it\n",
    "#input will be ran through the dictionary of codes to see if theres a match\n",
    "filename = \"Currency_codes-Copy1.csv\"\n",
    "country  = input(\"Enter a country: \")\n",
    "country = country.upper()\n",
    "country_dic = {}\n",
    "with open(filename) as f:\n",
    "    file = csv.DictReader(f, delimiter = ',')\n",
    "    for line in file:\n",
    "        country_dic[line['Entity']] = line['AlphabeticCode']\n",
    "#Finally have a dictionary with keys as countries, and values as Alpha 3 codes\n",
    "for i in country_dic:\n",
    "    if i == country:\n",
    "        print(country_dic[i])\n",
    "#SUCCESS     "
   ]
  },
  {
   "cell_type": "code",
   "execution_count": 4,
   "metadata": {},
   "outputs": [
    {
     "name": "stdout",
     "output_type": "stream",
     "text": [
      "Enter a country: france\n"
     ]
    },
    {
     "data": {
      "text/plain": [
       "'EUR'"
      ]
     },
     "execution_count": 4,
     "metadata": {},
     "output_type": "execute_result"
    }
   ],
   "source": [
    "#Step one: take a country and return the alpha3 currency code\n",
    "\n",
    "\n",
    "\n",
    "def countryToAlpha3(country):\n",
    "    filename = \"Currency_codes-Copy1.csv\"\n",
    "    country = country.upper()\n",
    "    country_dict = {}\n",
    "    with open(filename) as f:\n",
    "        file = csv.DictReader(f, delimiter = ',')\n",
    "        for line in file:\n",
    "            country_dict[line['Entity']] = line['AlphabeticCode']\n",
    "    for i in country_dict:\n",
    "        if i == country:\n",
    "            return(country_dict[i])\n",
    "        \n",
    "        \n",
    "        \n",
    "sample = input(\"Enter a country: \")\n",
    "countryToAlpha3(sample)"
   ]
  },
  {
   "cell_type": "code",
   "execution_count": 6,
   "metadata": {},
   "outputs": [
    {
     "data": {
      "text/plain": [
       "0.899199"
      ]
     },
     "execution_count": 6,
     "metadata": {},
     "output_type": "execute_result"
    }
   ],
   "source": [
    "#Step two: take use the code to return the exchange rate from USD:alpha3\n",
    "\n",
    "\n",
    "def alpha3ToRate(alpha3):\n",
    "    url = \"http://www.apilayer.net/api/live?access_key=505e522c5920684cb68f5006abc56fa7&format=1\"\n",
    "    response = requests.get(url)\n",
    "    jason = response.json()\n",
    "    rate_dict = jason[\"quotes\"]\n",
    "    return(rate_dict[\"USD\"+alpha3])\n",
    "\n",
    "\n",
    "alpha3ToRate('EUR')"
   ]
  },
  {
   "cell_type": "code",
   "execution_count": 3,
   "metadata": {},
   "outputs": [
    {
     "data": {
      "text/plain": [
       "322.000001"
      ]
     },
     "execution_count": 3,
     "metadata": {},
     "output_type": "execute_result"
    }
   ],
   "source": [
    "#This is an attempt to put it all in one function\n",
    "\n",
    "def countryToExchangeRate(country):\n",
    "    country = country.upper()\n",
    "    country_dict = {}\n",
    "    alpha3 = 'n'\n",
    "    currencyFile = \"Currency_codes-Copy1.csv\"\n",
    "    with open(currencyFile) as f:\n",
    "        file = csv.DictReader(f, delimiter = ',')\n",
    "        for line in file:\n",
    "            country_dict[line['Entity']] = line ['AlphabeticCode']\n",
    "    for i in country_dict:\n",
    "        if i == country:\n",
    "            alpha3 = country_dict[i]\n",
    "    url = \"http://www.apilayer.net/api/live?access_key=505e522c5920684cb68f5006abc56fa7&format=1\"\n",
    "    response = requests.get(url)\n",
    "    jason = response.json()\n",
    "    rate_dict = jason[\"quotes\"]\n",
    "    return(rate_dict[\"USD\"+alpha3])\n",
    "countryToExchangeRate('Zimbabwe')\n",
    "#YES\n",
    "#Has redundancies but this function takes a country and outputs a rate\n"
   ]
  },
  {
   "cell_type": "code",
   "execution_count": null,
   "metadata": {},
   "outputs": [],
   "source": []
  }
 ],
 "metadata": {
  "kernelspec": {
   "display_name": "Python 3",
   "language": "python",
   "name": "python3"
  },
  "language_info": {
   "codemirror_mode": {
    "name": "ipython",
    "version": 3
   },
   "file_extension": ".py",
   "mimetype": "text/x-python",
   "name": "python",
   "nbconvert_exporter": "python",
   "pygments_lexer": "ipython3",
   "version": "3.7.3"
  }
 },
 "nbformat": 4,
 "nbformat_minor": 2
}
