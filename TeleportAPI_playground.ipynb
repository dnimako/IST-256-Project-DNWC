{
 "cells": [
  {
   "cell_type": "code",
   "execution_count": 2,
   "metadata": {},
   "outputs": [],
   "source": [
    "!pip install -q requests\n",
    "import requests\n",
    "import json"
   ]
  },
  {
   "cell_type": "code",
   "execution_count": 4,
   "metadata": {},
   "outputs": [
    {
     "name": "stdout",
     "output_type": "stream",
     "text": [
      "{'color': '#0d6999', 'name': 'Safety', 'score_out_of_10': 5.7155000000000005}\n",
      "{'color': '#051fa5', 'name': 'Healthcare', 'score_out_of_10': 8.748}\n",
      "{'color': '#b9117d', 'name': 'Internet Access', 'score_out_of_10': 5.605500000000001}\n"
     ]
    }
   ],
   "source": [
    "url = \"https://api.teleport.org/api/urban_areas/slug:san-francisco-bay-area/scores/\"\n",
    "response = requests.get(url)\n",
    "jason = response.json()\n",
    "\n",
    "#full file is stored. Now store the categories we want as dictionaries\n",
    "#all categories will reference SAN FRANCISO.\n",
    "#after categories are stored, find a way to place user input into url\n",
    "\n",
    "safety_dict = jason['categories'][7]\n",
    "healthy_dict = jason['categories'][8]\n",
    "online_dict = jason['categories'][13]\n",
    "print(safety_dict)\n",
    "print(healthy_dict)\n",
    "print(online_dict)"
   ]
  },
  {
   "cell_type": "code",
   "execution_count": 15,
   "metadata": {},
   "outputs": [
    {
     "name": "stdout",
     "output_type": "stream",
     "text": [
      "https://api.teleport.org/api/urban_areas/slug:san-francisco-bay-area/scores/\n",
      "enter a city: syracuse\n",
      "https://api.teleport.org/api/urban_areas/slug:syracuse/scores/\n"
     ]
    }
   ],
   "source": [
    "#Getting the user input city into the url\n",
    "\n",
    "print(\"https://api.teleport.org/api/urban_areas/slug:san-francisco-bay-area/scores/\")\n",
    "citySearch = input(\"enter a city: \")\n",
    "url = \"https://api.teleport.org/api/urban_areas/slug:%s/scores/\" % citySearch\n",
    "print(url)\n",
    "\n",
    "#same as currency we'll need to find a way to make the input more accepting of a range of formats\n",
    "#most likely lots of if elif statements\n",
    "#Also write a nicer error message if the city they searched for isn't on the list\n"
   ]
  },
  {
   "cell_type": "code",
   "execution_count": 9,
   "metadata": {},
   "outputs": [
    {
     "name": "stdout",
     "output_type": "stream",
     "text": [
      "enter a city: new-york\n"
     ]
    },
    {
     "data": {
      "text/plain": [
       "[7.022, 8.501666666666665, 7.0985]"
      ]
     },
     "execution_count": 9,
     "metadata": {},
     "output_type": "execute_result"
    }
   ],
   "source": [
    "#refractor to plug in argument to url and return 3 scores\n",
    "#I want to make the return as versatile as possible. For now: just numbers in a list\n",
    "#later we can make it a plot or something more exciting\n",
    "def cityScores(city):\n",
    "    url = \"https://api.teleport.org/api/urban_areas/slug:%s/scores/\" % city\n",
    "    response = requests.get(url)\n",
    "    jason = response.json()\n",
    "    safety_dict = jason['categories'][7]\n",
    "    healthy_dict = jason['categories'][8]\n",
    "    online_dict = jason['categories'][13]\n",
    "    return [safety_dict['score_out_of_10'], healthy_dict['score_out_of_10'], online_dict['score_out_of_10']]\n",
    "#test\n",
    "goof = input(\"enter a city: \")\n",
    "cityScores(goof)"
   ]
  },
  {
   "cell_type": "code",
   "execution_count": 5,
   "metadata": {},
   "outputs": [
    {
     "ename": "SyntaxError",
     "evalue": "invalid syntax (<ipython-input-5-c87416fadd1e>, line 6)",
     "output_type": "error",
     "traceback": [
      "\u001b[0;36m  File \u001b[0;32m\"<ipython-input-5-c87416fadd1e>\"\u001b[0;36m, line \u001b[0;32m6\u001b[0m\n\u001b[0;31m    <a class=\"teleport-widget-link\" href=\"https://teleport.org/cities/atlanta/\">Safety - Atlanta</a><script async class=\"teleport-widget-script\" data-url=\"https://teleport.org/cities/atlanta/widget/crime/?currency=USD\" data-max-width=\"420\" data-height=\"1372\" src=\"https://teleport.org/assets/firefly/widget-snippet.min.js\"></script>\u001b[0m\n\u001b[0m    ^\u001b[0m\n\u001b[0;31mSyntaxError\u001b[0m\u001b[0;31m:\u001b[0m invalid syntax\n"
     ]
    }
   ],
   "source": [
    "#next step will be to find the details of the score categories which will be included under the score\n",
    "# these details will provide insight as to why the city recieved the score that they did will give users a clearer picture of the city\n",
    "# Wdigets from Teleport have a ton of data. here is the code for Atlants's safety widget\n",
    "# if widgets become to complicated, a panda table will suffice. But the widgets are very nice\n",
    "<a class=\"teleport-widget-link\" href=\"https://teleport.org/cities/atlanta/\">Safety - Atlanta</a><script async class=\"teleport-widget-script\" data-url=\"https://teleport.org/cities/atlanta/widget/crime/?currency=USD\" data-max-width=\"420\" data-height=\"1372\" src=\"https://teleport.org/assets/firefly/widget-snippet.min.js\"></script>"
   ]
  },
  {
   "cell_type": "code",
   "execution_count": null,
   "metadata": {},
   "outputs": [],
   "source": []
  }
 ],
 "metadata": {
  "kernelspec": {
   "display_name": "Python 3",
   "language": "python",
   "name": "python3"
  },
  "language_info": {
   "codemirror_mode": {
    "name": "ipython",
    "version": 3
   },
   "file_extension": ".py",
   "mimetype": "text/x-python",
   "name": "python",
   "nbconvert_exporter": "python",
   "pygments_lexer": "ipython3",
   "version": "3.7.3"
  }
 },
 "nbformat": 4,
 "nbformat_minor": 2
}
