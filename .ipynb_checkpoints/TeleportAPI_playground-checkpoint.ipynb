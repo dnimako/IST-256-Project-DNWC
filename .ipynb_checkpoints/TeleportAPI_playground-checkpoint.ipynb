{
 "cells": [
  {
   "cell_type": "code",
   "execution_count": 12,
   "metadata": {},
   "outputs": [],
   "source": [
    "!pip install -q requests\n",
    "import requests\n",
    "import json"
   ]
  },
  {
   "cell_type": "code",
   "execution_count": 13,
   "metadata": {},
   "outputs": [
    {
     "name": "stdout",
     "output_type": "stream",
     "text": [
      "{'color': '#0d6999', 'name': 'Safety', 'score_out_of_10': 5.7155000000000005}\n",
      "{'color': '#051fa5', 'name': 'Healthcare', 'score_out_of_10': 8.748}\n",
      "{'color': '#b9117d', 'name': 'Internet Access', 'score_out_of_10': 5.605500000000001}\n"
     ]
    }
   ],
   "source": [
    "url = \"https://api.teleport.org/api/urban_areas/slug:san-francisco-bay-area/scores/\"\n",
    "response = requests.get(url)\n",
    "jason = response.json()\n",
    "\n",
    "#full file is stored. Now store the categories we want as dictionaries\n",
    "#all categories will reference SAN FRANCISO.\n",
    "#after categories are stored, find a way to place user input into url\n",
    "\n",
    "safety_dict = jason['categories'][7]\n",
    "healthy_dict = jason['categories'][8]\n",
    "online_dict = jason['categories'][13]\n",
    "print(safety_dict)\n",
    "print(healthy_dict)\n",
    "print(online_dict)"
   ]
  },
  {
   "cell_type": "code",
   "execution_count": 14,
   "metadata": {},
   "outputs": [
    {
     "name": "stdout",
     "output_type": "stream",
     "text": [
      "https://api.teleport.org/api/urban_areas/slug:san-francisco-bay-area/scores/\n",
      "enter a city: New York\n",
      "https://api.teleport.org/api/urban_areas/slug:New York/scores/\n"
     ]
    }
   ],
   "source": [
    "#Getting the user input city into the url\n",
    "\n",
    "print(\"https://api.teleport.org/api/urban_areas/slug:san-francisco-bay-area/scores/\")\n",
    "citySearch = input(\"enter a city: \")\n",
    "url = \"https://api.teleport.org/api/urban_areas/slug:%s/scores/\" % citySearch\n",
    "print(url)\n",
    "\n",
    "#same as currency we'll need to find a way to make the input more accepting of a range of formats\n",
    "#most likely lots of if elif statements\n",
    "#Also write a nicer error message if the city they searched for isn't on the list"
   ]
  },
  {
   "cell_type": "code",
   "execution_count": 23,
   "metadata": {},
   "outputs": [
    {
     "name": "stdout",
     "output_type": "stream",
     "text": [
      "Enter a place: New York\n",
      "new york\n",
      "new-york\n"
     ]
    }
   ],
   "source": [
    "#Accept more input (like 'New York -> new-york')\n",
    "town = input(\"Enter a place: \")\n",
    "town = town.lower()\n",
    "print(town)\n",
    "town = town.replace(' ', '-')\n",
    "print(town)\n",
    "# Still strict but most people will enter a city in this way"
   ]
  },
  {
   "cell_type": "code",
   "execution_count": 24,
   "metadata": {},
   "outputs": [
    {
     "name": "stdout",
     "output_type": "stream",
     "text": [
      "enter a city: New York\n"
     ]
    },
    {
     "data": {
      "text/plain": [
       "[7.022, 8.501666666666665, 7.0985]"
      ]
     },
     "execution_count": 24,
     "metadata": {},
     "output_type": "execute_result"
    }
   ],
   "source": [
    "#refractor to plug in argument to url and return 3 scores\n",
    "#I want to make the return as versatile as possible. For now: just numbers in a list\n",
    "#later we can make it a plot or something more exciting\n",
    "\n",
    "def cityScores(city):\n",
    "    city = city.lower()\n",
    "    city = city.replace(' ', '-')\n",
    "    url = \"https://api.teleport.org/api/urban_areas/slug:%s/scores/\" % city\n",
    "    response = requests.get(url)\n",
    "    jason = response.json()\n",
    "    safety_dict = jason['categories'][7]\n",
    "    healthy_dict = jason['categories'][8]\n",
    "    online_dict = jason['categories'][13]\n",
    "    return [safety_dict['score_out_of_10'], healthy_dict['score_out_of_10'], online_dict['score_out_of_10']]\n",
    "\n",
    "#test\n",
    "goof = input(\"enter a city: \")\n",
    "cityScores(goof)"
   ]
  },
  {
   "cell_type": "code",
   "execution_count": 10,
   "metadata": {},
   "outputs": [
    {
     "data": {
      "text/plain": [
       "<Response [200]>"
      ]
     },
     "execution_count": 10,
     "metadata": {},
     "output_type": "execute_result"
    }
   ],
   "source": [
    "#next step will be to find the details of the score categories which will be included under the score\n",
    "# these details will provide insight as to why the city recieved the score that they did will give users a clearer picture of the city\n",
    "# Wdigets from Teleport have a ton of data. here is the code for Atlants's safety widget\n",
    "# if widgets become too complicated, a panda table will suffice. But the widgets are very nice\n",
    "\n",
    "data_url= \"https://teleport.org/cities/atlanta/widget/crime/?currency=USD\"\n",
    "wid_response = requests.get(data_url)\n",
    "displaywid_response\n",
    "# Extra stuff: data-max-width=\"420\" data-height=\"1372\" src=\"https://teleport.org/assets/firefly/widget-snippet.min.js\"></script>"
   ]
  },
  {
   "cell_type": "code",
   "execution_count": 3,
   "metadata": {},
   "outputs": [
    {
     "name": "stdout",
     "output_type": "stream",
     "text": [
      "Help on function display in module IPython.core.display:\n",
      "\n",
      "display(*objs, include=None, exclude=None, metadata=None, transient=None, display_id=None, **kwargs)\n",
      "    Display a Python object in all frontends.\n",
      "    \n",
      "    By default all representations will be computed and sent to the frontends.\n",
      "    Frontends can decide which representation is used and how.\n",
      "    \n",
      "    In terminal IPython this will be similar to using :func:`print`, for use in richer\n",
      "    frontends see Jupyter notebook examples with rich display logic.\n",
      "    \n",
      "    Parameters\n",
      "    ----------\n",
      "    objs : tuple of objects\n",
      "        The Python objects to display.\n",
      "    raw : bool, optional\n",
      "        Are the objects to be displayed already mimetype-keyed dicts of raw display data,\n",
      "        or Python objects that need to be formatted before display? [default: False]\n",
      "    include : list, tuple or set, optional\n",
      "        A list of format type strings (MIME types) to include in the\n",
      "        format data dict. If this is set *only* the format types included\n",
      "        in this list will be computed.\n",
      "    exclude : list, tuple or set, optional\n",
      "        A list of format type strings (MIME types) to exclude in the format\n",
      "        data dict. If this is set all format types will be computed,\n",
      "        except for those included in this argument.\n",
      "    metadata : dict, optional\n",
      "        A dictionary of metadata to associate with the output.\n",
      "        mime-type keys in this dictionary will be associated with the individual\n",
      "        representation formats, if they exist.\n",
      "    transient : dict, optional\n",
      "        A dictionary of transient data to associate with the output.\n",
      "        Data in this dict should not be persisted to files (e.g. notebooks).\n",
      "    display_id : str, bool optional\n",
      "        Set an id for the display.\n",
      "        This id can be used for updating this display area later via update_display.\n",
      "        If given as `True`, generate a new `display_id`\n",
      "    kwargs: additional keyword-args, optional\n",
      "        Additional keyword-arguments are passed through to the display publisher.\n",
      "    \n",
      "    Returns\n",
      "    -------\n",
      "    \n",
      "    handle: DisplayHandle\n",
      "        Returns a handle on updatable displays for use with :func:`update_display`,\n",
      "        if `display_id` is given. Returns :any:`None` if no `display_id` is given\n",
      "        (default).\n",
      "    \n",
      "    Examples\n",
      "    --------\n",
      "    \n",
      "    >>> class Json(object):\n",
      "    ...     def __init__(self, json):\n",
      "    ...         self.json = json\n",
      "    ...     def _repr_pretty_(self, pp, cycle):\n",
      "    ...         import json\n",
      "    ...         pp.text(json.dumps(self.json, indent=2))\n",
      "    ...     def __repr__(self):\n",
      "    ...         return str(self.json)\n",
      "    ...\n",
      "    \n",
      "    >>> d = Json({1:2, 3: {4:5}})\n",
      "    \n",
      "    >>> print(d)\n",
      "    {1: 2, 3: {4: 5}}\n",
      "    \n",
      "    >>> display(d)\n",
      "    {\n",
      "      \"1\": 2,\n",
      "      \"3\": {\n",
      "        \"4\": 5\n",
      "      }\n",
      "    }\n",
      "    \n",
      "    >>> def int_formatter(integer, pp, cycle):\n",
      "    ...     pp.text('I'*integer)\n",
      "    \n",
      "    >>> plain = get_ipython().display_formatter.formatters['text/plain']\n",
      "    >>> plain.for_type(int, int_formatter)\n",
      "    <function _repr_pprint at 0x...>\n",
      "    >>> display(7-5)\n",
      "    II\n",
      "    \n",
      "    >>> del plain.type_printers[int]\n",
      "    >>> display(7-5)\n",
      "    2\n",
      "    \n",
      "    See Also\n",
      "    --------\n",
      "    \n",
      "    :func:`update_display`\n",
      "    \n",
      "    Notes\n",
      "    -----\n",
      "    \n",
      "    In Python, objects can declare their textual representation using the\n",
      "    `__repr__` method. IPython expands on this idea and allows objects to declare\n",
      "    other, rich representations including:\n",
      "    \n",
      "      - HTML\n",
      "      - JSON\n",
      "      - PNG\n",
      "      - JPEG\n",
      "      - SVG\n",
      "      - LaTeX\n",
      "    \n",
      "    A single object can declare some or all of these representations; all are\n",
      "    handled by IPython's display system.\n",
      "    \n",
      "    The main idea of the first approach is that you have to implement special\n",
      "    display methods when you define your class, one for each representation you\n",
      "    want to use. Here is a list of the names of the special methods and the\n",
      "    values they must return:\n",
      "    \n",
      "      - `_repr_html_`: return raw HTML as a string, or a tuple (see below).\n",
      "      - `_repr_json_`: return a JSONable dict, or a tuple (see below).\n",
      "      - `_repr_jpeg_`: return raw JPEG data, or a tuple (see below).\n",
      "      - `_repr_png_`: return raw PNG data, or a tuple (see below).\n",
      "      - `_repr_svg_`: return raw SVG data as a string, or a tuple (see below).\n",
      "      - `_repr_latex_`: return LaTeX commands in a string surrounded by \"$\",\n",
      "                        or a tuple (see below).\n",
      "      - `_repr_mimebundle_`: return a full mimebundle containing the mapping\n",
      "                             from all mimetypes to data.\n",
      "                             Use this for any mime-type not listed above.\n",
      "    \n",
      "    The above functions may also return the object's metadata alonside the\n",
      "    data.  If the metadata is available, the functions will return a tuple\n",
      "    containing the data and metadata, in that order.  If there is no metadata\n",
      "    available, then the functions will return the data only.\n",
      "    \n",
      "    When you are directly writing your own classes, you can adapt them for\n",
      "    display in IPython by following the above approach. But in practice, you\n",
      "    often need to work with existing classes that you can't easily modify.\n",
      "    \n",
      "    You can refer to the documentation on integrating with the display system in\n",
      "    order to register custom formatters for already existing types\n",
      "    (:ref:`integrating_rich_display`).\n",
      "    \n",
      "    .. versionadded:: 5.4 display available without import\n",
      "    .. versionadded:: 6.1 display available without import\n",
      "    \n",
      "    Since IPython 5.4 and 6.1 :func:`display` is automatically made available to\n",
      "    the user without import. If you are using display in a document that might\n",
      "    be used in a pure python context or with older version of IPython, use the\n",
      "    following import at the top of your file::\n",
      "    \n",
      "        from IPython.display import display\n",
      "\n"
     ]
    }
   ],
   "source": [
    "help(display)"
   ]
  },
  {
   "cell_type": "code",
   "execution_count": null,
   "metadata": {},
   "outputs": [],
   "source": []
  }
 ],
 "metadata": {
  "kernelspec": {
   "display_name": "Python 3",
   "language": "python",
   "name": "python3"
  },
  "language_info": {
   "codemirror_mode": {
    "name": "ipython",
    "version": 3
   },
   "file_extension": ".py",
   "mimetype": "text/x-python",
   "name": "python",
   "nbconvert_exporter": "python",
   "pygments_lexer": "ipython3",
   "version": "3.7.3"
  }
 },
 "nbformat": 4,
 "nbformat_minor": 2
}
